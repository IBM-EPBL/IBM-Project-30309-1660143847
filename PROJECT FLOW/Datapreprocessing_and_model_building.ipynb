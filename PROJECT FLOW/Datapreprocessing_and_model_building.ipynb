{
  "nbformat": 4,
  "nbformat_minor": 0,
  "metadata": {
    "colab": {
      "provenance": []
    },
    "kernelspec": {
      "name": "python3",
      "display_name": "Python 3"
    },
    "language_info": {
      "name": "python"
    }
  },
  "cells": [
    {
      "cell_type": "code",
      "execution_count": 7,
      "metadata": {
        "id": "WyrDErgUty6C"
      },
      "outputs": [],
      "source": [
        "#Import the ImageDataGenerator library\n",
        "from tensorflow.keras.preprocessing.image import ImageDataGenerator\n",
        "import numpy as np\n",
        "import pandas as pd\n",
        "import tensorflow as tf\n",
        "from tensorflow.keras import layers\n",
        "from tensorflow.keras.models import Sequential\n",
        "from tensorflow.keras.preprocessing.image import ImageDataGenerator\n",
        "import matplotlib.pyplot as plt\n",
        "from tensorflow.keras.layers import Dense,Flatten\n",
        "from tensorflow.keras.layers import Conv2D,MaxPooling2D"
      ]
    },
    {
      "cell_type": "code",
      "source": [
        "#Configure ImageDataGenerator class and ApplyImageDataGenerator functionality to Trainset and Testset\n",
        "train_datagon=ImageDataGenerator(rescale=1./255,shear_range=0.2,zoom_range=0.2,horizontal_flip=True)\n",
        "test_datagon=ImageDataGenerator(rescale=1./255)"
      ],
      "metadata": {
        "id": "GJA0L7R34INe"
      },
      "execution_count": 8,
      "outputs": []
    },
    {
      "cell_type": "markdown",
      "source": [],
      "metadata": {
        "id": "Hm8Vve4Q5XwF"
      }
    },
    {
      "cell_type": "code",
      "source": [
        "x_train=train_datagon.flow_from_directory('/content/drive/MyDrive/dataset/train_set',target_size=(64,64),batch_size=5,color_mode='rgb',class_mode='categorical')\n",
        "x_test=test_datagon.flow_from_directory('/content/drive/MyDrive/dataset/test_set',target_size=(64,64),batch_size=5,color_mode='rgb',class_mode='categorical')"
      ],
      "metadata": {
        "colab": {
          "base_uri": "https://localhost:8080/"
        },
        "id": "dFlR8Nu14RAA",
        "outputId": "8b305e9f-5f3b-4c16-f12f-a71ee967e4b0"
      },
      "execution_count": 4,
      "outputs": [
        {
          "output_type": "stream",
          "name": "stdout",
          "text": [
            "Found 750 images belonging to 4 classes.\n",
            "Found 198 images belonging to 4 classes.\n"
          ]
        }
      ]
    },
    {
      "cell_type": "code",
      "source": [
        "#import libraries for building mode\n",
        "from tensorflow.keras import layers\n",
        "from tensorflow.keras.models import Sequential\n",
        "from tensorflow.keras.layers import Dense,Flatten\n",
        "from tensorflow.keras.layers import Conv2D,MaxPooling2D"
      ],
      "metadata": {
        "id": "ki5pSeih40Je"
      },
      "execution_count": 6,
      "outputs": []
    }
  ]
}